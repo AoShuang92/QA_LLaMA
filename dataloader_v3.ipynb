{
 "cells": [
  {
   "cell_type": "code",
   "execution_count": 1,
   "id": "99282e46-4220-4df5-a08c-1db2519506fb",
   "metadata": {},
   "outputs": [
    {
     "name": "stderr",
     "output_type": "stream",
     "text": [
      "/data/user-data/sa25729/.local/lib/python3.8/site-packages/transformers/utils/generic.py:441: FutureWarning: `torch.utils._pytree._register_pytree_node` is deprecated. Please use `torch.utils._pytree.register_pytree_node` instead.\n",
      "  _torch_pytree._register_pytree_node(\n",
      "/data/user-data/sa25729/.local/lib/python3.8/site-packages/transformers/utils/generic.py:309: FutureWarning: `torch.utils._pytree._register_pytree_node` is deprecated. Please use `torch.utils._pytree.register_pytree_node` instead.\n",
      "  _torch_pytree._register_pytree_node(\n",
      "/data/user-data/sa25729/.local/lib/python3.8/site-packages/transformers/utils/generic.py:309: FutureWarning: `torch.utils._pytree._register_pytree_node` is deprecated. Please use `torch.utils._pytree.register_pytree_node` instead.\n",
      "  _torch_pytree._register_pytree_node(\n",
      "/data/user-data/sa25729/.local/lib/python3.8/site-packages/huggingface_hub/file_download.py:1150: FutureWarning: `resume_download` is deprecated and will be removed in version 1.0.0. Downloads always resume when possible. If you want to force a new download, use `force_download=True`.\n",
      "  warnings.warn(\n",
      "/data/user-data/sa25729/.local/lib/python3.8/site-packages/transformers/modeling_utils.py:519: FutureWarning: You are using `torch.load` with `weights_only=False` (the current default value), which uses the default pickle module implicitly. It is possible to construct malicious pickle data which will execute arbitrary code during unpickling (See https://github.com/pytorch/pytorch/blob/main/SECURITY.md#untrusted-models for more details). In a future release, the default value for `weights_only` will be flipped to `True`. This limits the functions that could be executed during unpickling. Arbitrary objects will no longer be allowed to be loaded via this mode unless they are explicitly allowlisted by the user via `torch.serialization.add_safe_globals`. We recommend you start setting `weights_only=True` for any use case where you don't have full control of the loaded file. Please open an issue on GitHub for any issues related to this experimental feature.\n",
      "  return torch.load(checkpoint_file, map_location=map_location)\n"
     ]
    }
   ],
   "source": [
    "import os\n",
    "import json\n",
    "from PIL import Image\n",
    "from torch.utils.data import Dataset\n",
    "import re\n",
    "from torchvision import transforms\n",
    "import pandas as pd\n",
    "import numpy as np\n",
    "\n",
    "import torch\n",
    "from typing import Tuple\n",
    "\n",
    "from transformers import AutoTokenizer, CLIPVisionModel\n",
    "from torchvision import transforms\n",
    "from torch import nn\n",
    "from collections import OrderedDict\n",
    "from transformers.activations import ACT2FN\n",
    "\n",
    "\n",
    "\n",
    "# process question when input model\n",
    "def pre_question(question, max_ques_words):\n",
    "    question = re.sub(\n",
    "        r\"([,.'!?\\\"()*#:;~])\",\n",
    "        '',\n",
    "        question.lower(),\n",
    "    ).replace(' \\t', ' ').replace('is/are', 'is').replace('near/in', 'in')\n",
    "    question = question.replace('>', 'more than ').replace('-yes/no', '')\n",
    "    question = question.replace('x ray', 'xray').replace('x-ray', 'xray')\n",
    "    question = question.rstrip(' ')\n",
    "\n",
    "    # truncate question\n",
    "    question_words = question.split(' ')\n",
    "    if len(question_words) > max_ques_words:\n",
    "        question = ' '.join(question_words[:max_ques_words])\n",
    "\n",
    "    return question\n",
    "\n",
    "# process answer when input model\n",
    "def pre_answer(answer):\n",
    "    answer = str(answer)\n",
    "    answer = re.sub(\n",
    "        r\"([,.'!?\\\"()*#:;~])\",\n",
    "        '',\n",
    "        answer.lower(),\n",
    "    ).replace(' \\t', ' ')\n",
    "    answer = answer.replace('x ray', 'xray').replace('x-ray', 'xray')\n",
    "    answer = answer.replace(' - ', '-')\n",
    "    return answer\n",
    "\n",
    "def visual_feature(model, image, proj):\n",
    "    inputs_img = {'pixel_values':0}\n",
    "    inputs_img['pixel_values'] = image.unsqueeze(0)\n",
    "    \n",
    "    #image feature\n",
    "    image_features = model(**inputs_img)\n",
    "    selected_image_features = image_features.last_hidden_state[:, 1:]\n",
    "\n",
    "    #feature embedding\n",
    "    img_emd = projector(selected_image_features)\n",
    "    return img_emd\n",
    "    \n",
    "\n",
    "class LlavaMultiModalProjector(nn.Module):\n",
    "    def __init__(self, config):\n",
    "        super().__init__()\n",
    "\n",
    "        self.linear_1 = nn.Linear(config[\"hidden_size\"], config[\"hidden_size_text\"], bias=True)\n",
    "        self.act = ACT2FN[config[\"projector_hidden_act\"]]\n",
    "        self.linear_2 = nn.Linear(config[\"hidden_size_text\"], config[\"hidden_size_text\"], bias=True)\n",
    "\n",
    "    def forward(self, image_features):\n",
    "        hidden_states = self.linear_1(image_features)\n",
    "        hidden_states = self.act(hidden_states)\n",
    "        hidden_states = self.linear_2(hidden_states)\n",
    "        return hidden_states\n",
    "\n",
    "\n",
    "class vqa_dataset(Dataset):\n",
    "    def __init__(self, ann_file, transform, vqa_root, eos='[SEP]', split=\"train\", max_ques_words=30,\n",
    "                 answer_list='', clip_model = None, feature_proj=None):\n",
    "        self.split = split\n",
    "        self.ann =  pd.read_pickle(ann_file)\n",
    "\n",
    "        self.transform = transform\n",
    "        self.vqa_root = vqa_root\n",
    "        self.max_ques_words = max_ques_words\n",
    "        self.eos = eos\n",
    "\n",
    "        self.clip_model = clip_model\n",
    "        self.feature_proj = feature_proj\n",
    "\n",
    "        if split == 'test':\n",
    "            self.max_ques_words = 50  # do not limit question length during test\n",
    "            self.answer_list = json.load(open(answer_list, 'r'))\n",
    "\n",
    "    def __len__(self):\n",
    "        return len(self.ann)\n",
    "\n",
    "    def __getitem__(self, index):\n",
    "\n",
    "        ann = self.ann[index]\n",
    "\n",
    "        image_path = os.path.join(self.vqa_root, ann['image'])\n",
    "        image = Image.open(image_path + '.jpg').convert('RGB')\n",
    "        image = self.transform(image).cuda()\n",
    "        \n",
    "        image_proj = visual_feature(self.clip_model, image, self.feature_proj)\n",
    "\n",
    "        if self.split == 'test':\n",
    "            question = pre_question(ann['question'], self.max_ques_words)\n",
    "            question_id = ann['qid']\n",
    "            return image, question, question_id\n",
    "\n",
    "        elif self.split == 'train':\n",
    "\n",
    "            question = pre_question(ann['question'], self.max_ques_words)\n",
    "            answers = ann['answer']\n",
    "            answers = pre_answer(answers)\n",
    "\n",
    "            return {'context':image_proj, 'question':question, 'answer':answers}\n",
    "\n",
    "normalize = transforms.Normalize((0.48145466, 0.4578275, 0.40821073), (0.26862954, 0.26130258, 0.27577711))\n",
    "train_transform = transforms.Compose([\n",
    "        # transforms.RandomResizedCrop(384, scale=(0.5, 1.0), interpolation=Image.BICUBIC),\n",
    "        transforms.Resize((336,336), interpolation=Image.BICUBIC),\n",
    "        transforms.RandomHorizontalFlip(),\n",
    "        # RandomAugment(2, 7, isPIL=True, augs=['Identity', 'AutoContrast', 'Equalize', 'Brightness', 'Sharpness',\n",
    "        #                                       'ShearX', 'ShearY', 'TranslateX', 'TranslateY', 'Rotate']),\n",
    "        transforms.ToTensor(),\n",
    "        normalize,\n",
    "    ])\n",
    "\n",
    "\n",
    "train_path = '/data/user-data/sa25729/MICCAI_2024/datasets/pvqa/qas/train/train_qa.pkl'\n",
    "image_path = '/data/user-data/sa25729/MICCAI_2024/datasets/pvqa/images/train'\n",
    "\n",
    "config = {}\n",
    "config[\"hidden_size\"] = 1024\n",
    "config[\"hidden_size_text\"] = 4096\n",
    "config[\"projector_hidden_act\"] = 'gelu'\n",
    "\n",
    "model = CLIPVisionModel.from_pretrained(\"openai/clip-vit-large-patch14-336\").cuda()\n",
    "projector = LlavaMultiModalProjector(config).cuda()\n",
    "\n",
    "train_dataset = vqa_dataset(train_path, train_transform, image_path, split='train', clip_model = model, feature_proj = projector)"
   ]
  },
  {
   "cell_type": "code",
   "execution_count": 2,
   "id": "5ed4e1e1-e5ab-4015-8edf-46fc52c46e5f",
   "metadata": {},
   "outputs": [
    {
     "data": {
      "text/plain": [
       "(torch.Size([1, 576, 4096]),\n",
       " dict_keys(['context', 'question', 'answer']),\n",
       " 'where are liver stem cells oval cells located',\n",
       " 'in the canals of hering',\n",
       " 19755)"
      ]
     },
     "execution_count": 2,
     "metadata": {},
     "output_type": "execute_result"
    }
   ],
   "source": [
    "train_dataset[0]['context'].size(), train_dataset[0].keys(), train_dataset[0]['question'], train_dataset[0]['answer'], len(train_dataset)\n"
   ]
  },
  {
   "cell_type": "code",
   "execution_count": 3,
   "id": "d106d0c7-5c3c-441b-897e-f73b418b7c44",
   "metadata": {},
   "outputs": [],
   "source": [
    "from lit_llama.tokenizer import Tokenizer\n",
    "from pathlib import Path\n",
    "from typing import Optional\n",
    "import torch.nn as nn\n",
    "from transformers import AutoModelForCausalLM\n",
    "\n",
    "\n",
    "config[\"padded_vocab_size\"]= 32000\n",
    "config[\"n_embd\"] = 4096\n",
    "\n",
    "\n",
    "def prepare_sample(example: dict, tokenizer: Tokenizer, max_length: int, mask_inputs: bool = True):\n",
    "\n",
    "\n",
    "    full_prompt = generate_prompt_qa(example, item = 'question')\n",
    "    full_prompt_and_response = full_prompt + example[\"answer\"]\n",
    "    \n",
    "    # encoded_full_prompt = tokenize(tokenizer, full_prompt, max_length=max_length, eos=False)\n",
    "    encoded_full_prompt_and_response = tokenize(tokenizer, full_prompt_and_response, eos=True, max_length=max_length)\n",
    "\n",
    "    wte=nn.Embedding(config['padded_vocab_size'], config['n_embd'])\n",
    "    text_ebd = wte(encoded_full_prompt_and_response).unsqueeze(0)\n",
    "\n",
    "    image_features = example[\"context\"]\n",
    "    num_images, num_image_patches, embed_dim = image_features.shape \n",
    "\n",
    "    batch_size, sequence_length = encoded_full_prompt_and_response.unsqueeze(0).shape\n",
    "\n",
    "    encoded_full_prompt_and_response_ = encoded_full_prompt_and_response.unsqueeze(0)\n",
    "    \n",
    "    image_token_index = encoded_full_prompt_and_response_[:,4]\n",
    "    \n",
    "    special_image_token_mask = encoded_full_prompt_and_response_ == encoded_full_prompt_and_response_[:,4]\n",
    "\n",
    "    num_special_image_tokens = torch.sum(special_image_token_mask, dim=-1)\n",
    "\n",
    "    max_embed_dim = (num_special_image_tokens.max() * (num_image_patches - 1)) + encoded_full_prompt_and_response_.size(1)\n",
    "\n",
    "    batch_indices, non_image_indices = torch.where(encoded_full_prompt_and_response_ != image_token_index)\n",
    "\n",
    "    new_token_positions = torch.cumsum((special_image_token_mask * (num_image_patches - 1) + 1), -1) - 1\n",
    "\n",
    "    nb_image_pad = max_embed_dim - 1 - new_token_positions[:, -1]\n",
    "    nb_image_pad = nb_image_pad.cuda()\n",
    "\n",
    "    text_to_overwrite = new_token_positions[batch_indices, non_image_indices]\n",
    "\n",
    "    final_embedding = torch.zeros(\n",
    "        batch_size, max_embed_dim, embed_dim, dtype=image_features.dtype, device=image_features.device)\n",
    "    \n",
    "    final_embedding[batch_indices, text_to_overwrite] = text_ebd[batch_indices, non_image_indices].cuda()\n",
    "\n",
    "    image_to_overwrite = torch.all(final_embedding == 0, dim=-1)\n",
    "    \n",
    "    image_to_overwrite &= image_to_overwrite.cumsum(-1) - 1 >= nb_image_pad[:, None]\n",
    "\n",
    "    if image_to_overwrite.sum() != image_features.shape[:-1].numel():\n",
    "        raise ValueError(\n",
    "            f\"The input provided to the model are wrong. The number of image tokens is {torch.sum(special_image_token_mask)} while\"\n",
    "            f\" the number of image given to the model is {num_images}. This prevents correct indexing and breaks batch generation.\"\n",
    "        )\n",
    "\n",
    "    final_embedding[image_to_overwrite] = image_features.contiguous().reshape(-1, embed_dim)\n",
    "    \n",
    "    #create labels\n",
    "    temp_embedding = torch.zeros(batch_size, max_embed_dim, dtype=encoded_full_prompt_and_response_.dtype)\n",
    "\n",
    "    ans = generate_prompt_qa(example, item = 'answer')\n",
    "    encoded_ans = tokenize(tokenizer, ans, eos=True, max_length=max_length)\n",
    "    encoded_ans = encoded_ans[1:].unsqueeze(0)\n",
    "    temp_embedding[:,-encoded_ans.size(1):] = encoded_ans\n",
    "\n",
    "    # The labels are the full prompt with response, but with the prompt masked out\n",
    "    labels = temp_embedding.clone()\n",
    "    if mask_inputs:\n",
    "        labels[:, 0:-encoded_ans.size(1)] = IGNORE_INDEX\n",
    "\n",
    "    return {**example, \"input_ids\": final_embedding, \"labels\": labels}\n",
    "\n",
    "def tokenize(tokenizer: Tokenizer, string: str, max_length: int, eos=True) -> torch.Tensor:\n",
    "    return tokenizer.encode(string, bos=True, eos=eos, max_length=max_length)\n",
    "\n",
    "\n",
    "def generate_prompt_qa(example, item):\n",
    "    \"\"\"Generates a standardized message to prompt the model with an instruction, optional input and a\n",
    "    'response' field.\"\"\"\n",
    "    if item == \"question\": \n",
    "        return f\"Context:\\nimage\\nQuestion:\\n{example[item]}\\nAnswer:\\n\"\n",
    "    else:\n",
    "        return f\"Answer:\\n{example[item]}\"\n"
   ]
  },
  {
   "cell_type": "code",
   "execution_count": 4,
   "id": "e33ef23f-434b-439f-af04-ad787c1db29e",
   "metadata": {},
   "outputs": [
    {
     "name": "stderr",
     "output_type": "stream",
     "text": [
      "/tmp/ipykernel_151594/575762643.py:19: FutureWarning: You are using `torch.load` with `weights_only=False` (the current default value), which uses the default pickle module implicitly. It is possible to construct malicious pickle data which will execute arbitrary code during unpickling (See https://github.com/pytorch/pytorch/blob/main/SECURITY.md#untrusted-models for more details). In a future release, the default value for `weights_only` will be flipped to `True`. This limits the functions that could be executed during unpickling. Arbitrary objects will no longer be allowed to be loaded via this mode unless they are explicitly allowlisted by the user via `torch.serialization.add_safe_globals`. We recommend you start setting `weights_only=True` for any use case where you don't have full control of the loaded file. Please open an issue on GitHub for any issues related to this experimental feature.\n",
      "  train_data = torch.load(os.path.join(data_dir, \"train_data_fuse.pt\"))\n"
     ]
    },
    {
     "data": {
      "text/plain": [
       "(10,\n",
       " dict_keys(['context', 'question', 'answer', 'input_ids', 'labels']),\n",
       " torch.Size([1, 608, 4096]),\n",
       " torch.Size([1, 608]))"
      ]
     },
     "execution_count": 4,
     "metadata": {},
     "output_type": "execute_result"
    }
   ],
   "source": [
    "from tqdm import tqdm\n",
    "\n",
    "IGNORE_INDEX = -1\n",
    "tokenizer_path = Path(\"checkpoints/lit-llama/tokenizer.model\")\n",
    "tokenizer = Tokenizer(tokenizer_path)\n",
    "training_file_path = Path(\"data/squad2\")\n",
    "train_sample_set = []\n",
    "\n",
    "for i in range(10):\n",
    "    sample_set = prepare_sample(train_dataset[i], tokenizer, max_length=512, mask_inputs= True)\n",
    "    if sample_set == None:\n",
    "        continue\n",
    "    else:\n",
    "        train_sample_set.append(sample_set)\n",
    "        i += 1\n",
    "    torch.save(train_sample_set, training_file_path.parent / \"train_data_fuse.pt\") #\"/data/user-data/sa25729/lit_llama_qa/lit_llama_qa/data/train_temp.pt\"\n",
    "\n",
    "def load_datasets(data_dir):\n",
    "    train_data = torch.load(os.path.join(data_dir, \"train_data_fuse.pt\"))\n",
    "    # val_data = torch.load(os.path.join(data_dir, \"test.pt\"))\n",
    "    # return train_data, val_data\n",
    "    return train_data\n",
    "\n",
    "\n",
    "data_dir = \"/data/user-data/sa25729/lit_llama_qa/lit-llama-qa/data/\"\n",
    "train_data = load_datasets(data_dir)\n",
    "len(train_data), train_data[0].keys(), train_data[0]['input_ids'].size(), train_data[0]['labels'].size()"
   ]
  },
  {
   "cell_type": "code",
   "execution_count": 5,
   "id": "3f734513-0f31-4d48-b357-b143a6471e25",
   "metadata": {},
   "outputs": [
    {
     "data": {
      "text/plain": [
       "torch.Size([1, 576, 4096])"
      ]
     },
     "execution_count": 5,
     "metadata": {},
     "output_type": "execute_result"
    }
   ],
   "source": [
    "train_data[0]['context'].size()"
   ]
  },
  {
   "cell_type": "code",
   "execution_count": null,
   "id": "9d0055b4-f447-4435-a570-bffd84fbf6be",
   "metadata": {},
   "outputs": [],
   "source": []
  },
  {
   "cell_type": "code",
   "execution_count": null,
   "id": "4bab2adb-5b69-4090-9c65-ad5bc5210a8d",
   "metadata": {},
   "outputs": [],
   "source": []
  },
  {
   "cell_type": "code",
   "execution_count": null,
   "id": "2a0bd523-c2bf-4ef8-bfd0-3af6770b2ee2",
   "metadata": {},
   "outputs": [],
   "source": []
  },
  {
   "cell_type": "code",
   "execution_count": 45,
   "id": "4f5ffc9c-a68d-493d-8067-0d22f4c33aee",
   "metadata": {},
   "outputs": [
    {
     "data": {
      "text/plain": [
       "'Context:\\nimage\\n'"
      ]
     },
     "execution_count": 45,
     "metadata": {},
     "output_type": "execute_result"
    }
   ],
   "source": [
    "from lit_llama.tokenizer import Tokenizer\n",
    "\n",
    "temp = \"hello\"\n",
    "\n",
    "x = torch.tensor([  1, 22430, 31871,    13, 31903,  8326, 31901,    13,  6347, 28312,\n",
    "        31871,    13,  3272,   397, 13357, 10700,  3984,   269,  1735,  3984,\n",
    "         3521,    13,  5092,  2055,   265, 31871,    13,   261,   266,   473,\n",
    "          811,   287,   600,   281,     2])\n",
    "\n",
    "x_ = torch.tensor([  1, 22430, 31871,    13,   8326, 13])\n",
    "def tokenize(tokenizer: Tokenizer, string: str, max_length: int, eos=True) -> torch.Tensor:\n",
    "    return tokenizer.encode(string, bos=True, eos=eos, max_length=max_length)\n",
    "\n",
    "def tokenize_dec(tokenizer: Tokenizer, token: str):\n",
    "    return tokenizer.decode(token)\n",
    "    \n",
    "tokenize(tokenizer, temp, eos=True, max_length=50)\n",
    "tokenize_dec(tokenizer, x_)\n"
   ]
  },
  {
   "cell_type": "code",
   "execution_count": 89,
   "id": "10fe8834-7ce7-4fca-ba51-2e2b7ce3fc64",
   "metadata": {},
   "outputs": [
    {
     "data": {
      "text/plain": [
       "tensor([31903])"
      ]
     },
     "execution_count": 89,
     "metadata": {},
     "output_type": "execute_result"
    }
   ],
   "source": [
    "x = torch.tensor([  1, 22430, 31871,    13, 31903,  8326, 31901,    13,  6347, 28312,\n",
    "        31871,    13,  3272,   397, 13357, 10700,  3984,   269,  1735,  3984,\n",
    "         3521,    13,  5092,  2055,   265, 31871,    13,   261,   266,   473,\n",
    "          811,   287,   600,   281,     2]).unsqueeze(0)\n",
    "x[:,4]"
   ]
  },
  {
   "cell_type": "code",
   "execution_count": null,
   "id": "120a95b5-e186-4466-b8b0-9fc99e9c77f7",
   "metadata": {},
   "outputs": [],
   "source": []
  }
 ],
 "metadata": {
  "kernelspec": {
   "display_name": "Python 3 (ipykernel)",
   "language": "python",
   "name": "python3"
  },
  "language_info": {
   "codemirror_mode": {
    "name": "ipython",
    "version": 3
   },
   "file_extension": ".py",
   "mimetype": "text/x-python",
   "name": "python",
   "nbconvert_exporter": "python",
   "pygments_lexer": "ipython3",
   "version": "3.8.10"
  }
 },
 "nbformat": 4,
 "nbformat_minor": 5
}
