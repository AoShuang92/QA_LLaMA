{
 "cells": [
  {
   "cell_type": "code",
   "execution_count": 1,
   "id": "a3a79025-7b71-4fd2-9f66-cc66291f5246",
   "metadata": {},
   "outputs": [],
   "source": [
    "from lit_llama.tokenizer import Tokenizer\n",
    "import torch\n",
    "\n",
    "import torch\n",
    "\n",
    "\n",
    "# Load the file\n",
    "pt_file = torch.load(\"/data/user-data/sa25729/lit_llama_qa/lit-llama-qa/data/squad2/train.pt\")"
   ]
  },
  {
   "cell_type": "code",
   "execution_count": 5,
   "id": "3cc26c87-307e-4a6d-9745-cb54d5be0c4b",
   "metadata": {},
   "outputs": [
    {
     "data": {
      "text/plain": [
       "dict_keys(['context', 'question', 'answer', 'input_ids', 'input_ids_no_response', 'labels'])"
      ]
     },
     "execution_count": 5,
     "metadata": {},
     "output_type": "execute_result"
    }
   ],
   "source": [
    "pt_file[0].keys()"
   ]
  },
  {
   "cell_type": "code",
   "execution_count": 2,
   "id": "dd5ec223-b164-45e9-84fa-9d647ae76b0a",
   "metadata": {},
   "outputs": [],
   "source": [
    "def generate_prompt_qa(example):\n",
    "    \"\"\"Generates a standardized message to prompt the model with an instruction, optional input and a\n",
    "    'response' field.\"\"\"\n",
    "\n",
    "    return f\"### Context:\\n{example['context']}\\n\\n### Question:\\n{example['question']}\\n\\n### Answer:\\n\"\n",
    "\n",
    "def tokenize(tokenizer: Tokenizer, string: str, max_length: int, eos=True) -> torch.Tensor:\n",
    "    return tokenizer.encode(string, bos=True, eos=eos, max_length=max_length)"
   ]
  },
  {
   "cell_type": "code",
   "execution_count": 3,
   "id": "2b121aee-f1e1-4702-9c31-649ee8d35d9a",
   "metadata": {},
   "outputs": [],
   "source": [
    "from pathlib import Path\n",
    "max_length = 512\n",
    "example = pt_file[0]\n",
    "tokenizer_path: Path = Path(\"checkpoints/lit-llama/tokenizer.model\")\n",
    "tokenizer = Tokenizer(tokenizer_path)\n",
    "    \n",
    "\n",
    "full_prompt = generate_prompt_qa(example)\n",
    "full_prompt_and_response = full_prompt + example[\"answer\"]\n",
    "encoded_full_prompt = tokenize(tokenizer, full_prompt, max_length=max_length, eos=False)\n",
    "encoded_full_prompt_and_response = tokenize(tokenizer, full_prompt_and_response, eos=True, max_length=max_length)"
   ]
  },
  {
   "cell_type": "code",
   "execution_count": 47,
   "id": "5cb88feb-25ae-4dee-8f61-db7e233466a6",
   "metadata": {},
   "outputs": [
    {
     "data": {
      "text/plain": [
       "(torch.Size([235]), 120)"
      ]
     },
     "execution_count": 47,
     "metadata": {},
     "output_type": "execute_result"
    }
   ],
   "source": [
    "encoded_full_prompt_and_response.size(), len(full_prompt_and_response.split(' '))"
   ]
  },
  {
   "cell_type": "code",
   "execution_count": 48,
   "id": "fb8dc3b9-20e8-4f0d-a21a-a7f9f0be6258",
   "metadata": {},
   "outputs": [
    {
     "data": {
      "text/plain": [
       "'### Context:\\nBeyoncé Giselle Knowles-Carter (/biːˈjɒnseɪ/ bee-YON-say) (born September 4, 1981) is an American singer, songwriter, record producer and actress. Born and raised in Houston, Texas, she performed in various singing and dancing competitions as a child, and rose to fame in the late 1990s as lead singer of R&B girl-group Destiny\\'s Child. Managed by her father, Mathew Knowles, the group became one of the world\\'s best-selling girl groups of all time. Their hiatus saw the release of Beyoncé\\'s debut album, Dangerously in Love (2003), which established her as a solo artist worldwide, earned five Grammy Awards and featured the Billboard Hot 100 number-one singles \"Crazy in Love\" and \"Baby Boy\".\\n\\n### Question:\\nWhen did Beyonce start becoming popular?\\n\\n### Answer:\\nin the late 1990s'"
      ]
     },
     "execution_count": 48,
     "metadata": {},
     "output_type": "execute_result"
    }
   ],
   "source": [
    "tokenize(tokenizer, example[\"answer\"], eos=True, max_length=max_length)"
   ]
  },
  {
   "cell_type": "code",
   "execution_count": 51,
   "id": "ce69cd06-23b3-4f1d-83fd-3e7b76b2fe2f",
   "metadata": {},
   "outputs": [
    {
     "data": {
      "text/plain": [
       "(torch.Size([198]), torch.Size([10]), torch.Size([11]), torch.Size([225]))"
      ]
     },
     "execution_count": 51,
     "metadata": {},
     "output_type": "execute_result"
    }
   ],
   "source": [
    "con_token = tokenize(tokenizer, example[\"context\"], eos=True, max_length=max_length)\n",
    "que_token = tokenize(tokenizer, example[\"question\"], eos=True, max_length=max_length)\n",
    "ans_token = tokenize(tokenizer, example[\"answer\"], eos=True, max_length=max_length)\n",
    "# example[\"answer\"], len(example[\"answer\"].split(' ')), ans_token.size(), ans_token\n",
    "con_token.size(), que_token.size(), ans_token.size(), encoded_full_prompt.size()"
   ]
  },
  {
   "cell_type": "code",
   "execution_count": null,
   "id": "e5e4be62-42da-46cc-bc5d-69733db7bc4d",
   "metadata": {},
   "outputs": [],
   "source": []
  },
  {
   "cell_type": "code",
   "execution_count": null,
   "id": "2765e993-0280-4227-9315-d3deaead559c",
   "metadata": {},
   "outputs": [],
   "source": []
  },
  {
   "cell_type": "code",
   "execution_count": 52,
   "id": "acff6059-b987-4b24-844f-e271c6b206a0",
   "metadata": {},
   "outputs": [
    {
     "data": {
      "text/plain": [
       "'Catherine McEwing'"
      ]
     },
     "execution_count": 52,
     "metadata": {},
     "output_type": "execute_result"
    }
   ],
   "source": [
    "tokenizer.decode(torch.tensor([31851, 9974,  1817, 31863,  7909, 2]))"
   ]
  },
  {
   "cell_type": "code",
   "execution_count": 43,
   "id": "2bcad7ac-2ec5-45d9-9755-5a1bdaf84faa",
   "metadata": {},
   "outputs": [
    {
     "data": {
      "text/plain": [
       "tensor([    1,   288,   266,  2732, 31822, 31853, 31877, 31877, 31852, 31829,\n",
       "          266,     2], dtype=torch.int32)"
      ]
     },
     "execution_count": 43,
     "metadata": {},
     "output_type": "execute_result"
    }
   ],
   "source": [
    "example[\"answer\"][0], \n",
    "st = \"in the late 1990s the\"\n",
    "tokenize(tokenizer, st, eos=True, max_length=max_length)"
   ]
  },
  {
   "cell_type": "code",
   "execution_count": 44,
   "id": "5fc8f850-40ea-4733-a04d-e980e055498d",
   "metadata": {},
   "outputs": [
    {
     "data": {
      "text/plain": [
       "''"
      ]
     },
     "execution_count": 44,
     "metadata": {},
     "output_type": "execute_result"
    }
   ],
   "source": [
    "tokenizer.decode(torch.tensor([1, 31822]))"
   ]
  },
  {
   "cell_type": "code",
   "execution_count": null,
   "id": "1a64eb55-df59-4c9f-a3e1-52a3bec2677c",
   "metadata": {},
   "outputs": [],
   "source": [
    "tokenizer.decode"
   ]
  },
  {
   "cell_type": "code",
   "execution_count": 57,
   "id": "25caf574-7f15-4761-9c4b-88da7c60fcb0",
   "metadata": {},
   "outputs": [
    {
     "data": {
      "text/plain": [
       "tensor([1, 2, 3])"
      ]
     },
     "execution_count": 57,
     "metadata": {},
     "output_type": "execute_result"
    }
   ],
   "source": [
    "x = torch.tensor((1,2,3))\n",
    "x"
   ]
  },
  {
   "cell_type": "code",
   "execution_count": 59,
   "id": "7211ff0d-81c6-4799-b8a0-20e7d604a200",
   "metadata": {},
   "outputs": [
    {
     "data": {
      "text/plain": [
       "tensor([1, 2])"
      ]
     },
     "execution_count": 59,
     "metadata": {},
     "output_type": "execute_result"
    }
   ],
   "source": [
    "x[..., :-1].contiguous()"
   ]
  },
  {
   "cell_type": "code",
   "execution_count": null,
   "id": "9f2b6925-9283-46e1-b9fe-019915cfe555",
   "metadata": {},
   "outputs": [],
   "source": []
  }
 ],
 "metadata": {
  "kernelspec": {
   "display_name": "Python 3 (ipykernel)",
   "language": "python",
   "name": "python3"
  },
  "language_info": {
   "codemirror_mode": {
    "name": "ipython",
    "version": 3
   },
   "file_extension": ".py",
   "mimetype": "text/x-python",
   "name": "python",
   "nbconvert_exporter": "python",
   "pygments_lexer": "ipython3",
   "version": "3.8.10"
  }
 },
 "nbformat": 4,
 "nbformat_minor": 5
}
